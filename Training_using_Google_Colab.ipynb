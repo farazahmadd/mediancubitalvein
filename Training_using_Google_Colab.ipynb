{
  "nbformat": 4,
  "nbformat_minor": 0,
  "metadata": {
    "colab": {
      "name": "Training_using_Google_Colab.ipynb",
      "provenance": [],
      "collapsed_sections": []
    },
    "kernelspec": {
      "name": "python3",
      "display_name": "Python 3"
    },
    "language_info": {
      "name": "python"
    }
  },
  "cells": [
    {
      "cell_type": "markdown",
      "source": [
        "#Training Custom model using YOLO V4"
      ],
      "metadata": {
        "id": "04c9M8ElP4pU"
      }
    },
    {
      "cell_type": "markdown",
      "source": [
        "### Mounting Google drive "
      ],
      "metadata": {
        "id": "hDfulFRDmICJ"
      }
    },
    {
      "cell_type": "code",
      "execution_count": null,
      "metadata": {
        "id": "mfP6TaXEl-NK"
      },
      "outputs": [],
      "source": [
        "from google.colab import drive\n",
        "drive.mount(\"/content/drive\",force_remount=True)"
      ]
    },
    {
      "cell_type": "code",
      "source": [
        "!ls '/content/drive/MyDrive/model_Training/'"
      ],
      "metadata": {
        "id": "13Wl630enkKu"
      },
      "execution_count": null,
      "outputs": []
    },
    {
      "cell_type": "code",
      "source": [
        "!unzip '/content/drive/MyDrive/model_Training/custom_data.zip' -d '/content/drive/MyDrive/model_Training/'"
      ],
      "metadata": {
        "id": "0FoEPz_bnpHP"
      },
      "execution_count": 5,
      "outputs": []
    },
    {
      "cell_type": "markdown",
      "source": [
        "###Cloning darknet github repo to google drive"
      ],
      "metadata": {
        "id": "2ueC3v2GQLli"
      }
    },
    {
      "cell_type": "code",
      "source": [
        "!git clone 'https://github.com/pjreddie/darknet.git' '/content/drive/MyDrive/model_Training/darknet'"
      ],
      "metadata": {
        "id": "MU9awE0noNWi"
      },
      "execution_count": null,
      "outputs": []
    },
    {
      "cell_type": "code",
      "source": [
        "%cd '/content/drive/MyDrive/model_Training/darknet'"
      ],
      "metadata": {
        "id": "7h3c1cXws5Lk"
      },
      "execution_count": null,
      "outputs": []
    },
    {
      "cell_type": "code",
      "source": [
        "!make"
      ],
      "metadata": {
        "id": "ITDj_fW0tKWi"
      },
      "execution_count": null,
      "outputs": []
    },
    {
      "cell_type": "code",
      "source": [
        "%cd /content/drive/MyDrive/yolo_custom_model_Training"
      ],
      "metadata": {
        "id": "unFKzocuwfBy"
      },
      "execution_count": null,
      "outputs": []
    },
    {
      "cell_type": "markdown",
      "source": [
        "### Creating files data and name"
      ],
      "metadata": {
        "id": "LeK5XcwUR5Hx"
      }
    },
    {
      "cell_type": "code",
      "source": [
        "!python custom_data/creating-files-data-and-name.py"
      ],
      "metadata": {
        "id": "WXPzs3MBwj6Y"
      },
      "execution_count": null,
      "outputs": []
    },
    {
      "cell_type": "markdown",
      "source": [
        " ### Creating files train and test files"
      ],
      "metadata": {
        "id": "twhrkr1NSFSX"
      }
    },
    {
      "cell_type": "code",
      "source": [
        "!python custom_data/creating-train-and-test-txt-files.py"
      ],
      "metadata": {
        "id": "7ZpO0jLJwk1v"
      },
      "execution_count": null,
      "outputs": []
    },
    {
      "cell_type": "code",
      "source": [
        "%cd /content/drive/MyDrive/yolo_custom_model_Training/"
      ],
      "metadata": {
        "id": "4TeumMRpzriZ"
      },
      "execution_count": null,
      "outputs": []
    },
    {
      "cell_type": "code",
      "source": [
        "!chmod +x ./darknet/darknet"
      ],
      "metadata": {
        "id": "Kp-gZ4j563M3"
      },
      "execution_count": null,
      "outputs": []
    },
    {
      "cell_type": "markdown",
      "source": [
        "### Loading Pretrained Model for Custom Detection"
      ],
      "metadata": {
        "id": "_kkklsvuSnfN"
      }
    },
    {
      "cell_type": "code",
      "source": [
        "!wget https://pjreddie.com/media/files/darknet53.conv.74"
      ],
      "metadata": {
        "id": "aTGHPubLzegQ"
      },
      "execution_count": null,
      "outputs": []
    },
    {
      "cell_type": "code",
      "source": [
        "!cp /content/gdrive/My\\ Drive/darknet/bin/darknet ./darknet"
      ],
      "metadata": {
        "id": "B65rko12BDXt"
      },
      "execution_count": null,
      "outputs": []
    },
    {
      "cell_type": "markdown",
      "source": [
        "### Training new model and saving it"
      ],
      "metadata": {
        "id": "fC4uXFZbSz02"
      }
    },
    {
      "cell_type": "code",
      "source": [
        "!.darknet/darknet detector train custom_data/labelled_data.data darknet/cfg/yolov3_custom.cfg custom_weight/darknet53.conv.74 -dont_show"
      ],
      "metadata": {
        "id": "jwYmSbAv5-x-"
      },
      "execution_count": null,
      "outputs": []
    }
  ]
}